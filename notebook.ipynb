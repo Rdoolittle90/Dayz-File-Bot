{
 "cells": [
  {
   "cell_type": "markdown",
   "metadata": {},
   "source": [
    "## Select which map you would like to work on"
   ]
  },
  {
   "cell_type": "code",
   "execution_count": 1,
   "metadata": {},
   "outputs": [],
   "source": [
    "maps = [\"Namalsk\", \"Chernarus\"]\n",
    "\n",
    "trying = True\n",
    "while trying:\n",
    "    try:\n",
    "        user_input = int(input(\"Namalsk = 0\\nChernarus = 1\\n\\tSelect a map to work on: \"))\n",
    "        trying = False\n",
    "    except TypeError:\n",
    "        print(\"type 0 or 1\")\n",
    "\n",
    "selected_map = maps[user_input]"
   ]
  },
  {
   "cell_type": "markdown",
   "metadata": {},
   "source": [
    "## Import TraderConfig Data From selected inputs folder"
   ]
  },
  {
   "cell_type": "code",
   "execution_count": null,
   "metadata": {},
   "outputs": [],
   "source": [
    "from src.dayz.traderconfig_manager import TraderConfigManager\n",
    "\n",
    "tcm = TraderConfigManager()\n",
    "tcm.load_traderconfig_to_db(selected_map)"
   ]
  },
  {
   "cell_type": "markdown",
   "metadata": {},
   "source": [
    "## Import types.xml Data From selected inputs folder"
   ]
  },
  {
   "cell_type": "code",
   "execution_count": null,
   "metadata": {},
   "outputs": [],
   "source": [
    "from src.dayz.xml_manager import XMLManager\n",
    "\n",
    "xmlm = XMLManager()\n",
    "#xmlm.close()\n",
    "xmlm.load_types_xml_to_db(selected_map, force_load_all=False)"
   ]
  },
  {
   "cell_type": "markdown",
   "metadata": {},
   "source": [
    "## Validate types.xml file\n",
    "by checking that every type open has a type close"
   ]
  },
  {
   "cell_type": "code",
   "execution_count": null,
   "metadata": {},
   "outputs": [],
   "source": [
    "with open(f'_files/outputs/{selected_map}/types.xml', \"r\") as fin:\n",
    "    lines = fin.readlines()\n",
    "\n",
    "opens = 0\n",
    "for line in lines:\n",
    "    if line.startswith(\"\\t<type\"):\n",
    "        opens += 1\n",
    "    if opens == 2:\n",
    "        print(line)\n",
    "    if line.startswith(\"\\t</type\"):\n",
    "        opens -= 1"
   ]
  },
  {
   "cell_type": "markdown",
   "metadata": {},
   "source": []
  },
  {
   "cell_type": "code",
   "execution_count": 3,
   "metadata": {},
   "outputs": [],
   "source": [
    "from src.dayz.player_atms import update_atm_db\n",
    "\n",
    "update_atm_db(selected_map)"
   ]
  },
  {
   "cell_type": "code",
   "execution_count": null,
   "metadata": {},
   "outputs": [],
   "source": []
  },
  {
   "cell_type": "code",
   "execution_count": 2,
   "metadata": {},
   "outputs": [],
   "source": [
    "from src.dayz.mod_manager import update_mod_list\n",
    "\n",
    "update_mod_list(selected_map)"
   ]
  }
 ],
 "metadata": {
  "kernelspec": {
   "display_name": "Python 3.9.12 64-bit",
   "language": "python",
   "name": "python3"
  },
  "language_info": {
   "codemirror_mode": {
    "name": "ipython",
    "version": 3
   },
   "file_extension": ".py",
   "mimetype": "text/x-python",
   "name": "python",
   "nbconvert_exporter": "python",
   "pygments_lexer": "ipython3",
   "version": "3.9.12"
  },
  "orig_nbformat": 4,
  "vscode": {
   "interpreter": {
    "hash": "0be2ebcd8732e5f1935d52ac8b49c411dfe1e9281f0ff9dc8c13474091bcdf78"
   }
  }
 },
 "nbformat": 4,
 "nbformat_minor": 2
}
