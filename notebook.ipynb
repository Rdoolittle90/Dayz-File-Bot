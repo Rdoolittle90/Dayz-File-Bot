{
 "cells": [
  {
   "cell_type": "code",
   "execution_count": null,
   "metadata": {},
   "outputs": [],
   "source": [
    "\n",
    "from src.dayz.traderconfig_manager import TraderConfigManager\n",
    "\n",
    "\n",
    "tcm = TraderConfigManager()\n",
    "tcm.create_new_traderconfig(\"Namalsk\")\n",
    "print(\"TraderConfig.txt Complete!\")"
   ]
  },
  {
   "cell_type": "code",
   "execution_count": null,
   "metadata": {},
   "outputs": [],
   "source": [
    "from src.dayz.xml_manager import XMLManager\n",
    "map_name = \"Namalsk\"\n",
    "\n",
    "xmlm = XMLManager()\n",
    "file = xmlm.create_new_types(map_name)\n",
    "print(\"Types.xmp Complete!\")"
   ]
  },
  {
   "cell_type": "code",
   "execution_count": null,
   "metadata": {},
   "outputs": [],
   "source": [
    "map_name = \"Namalsk\"\n",
    "file.write(f'_files/outputs/{map_name}/types.xml', xml_declaration=True, encoding=\"utf-8\", standalone=True)"
   ]
  },
  {
   "cell_type": "code",
   "execution_count": 2,
   "metadata": {},
   "outputs": [
    {
     "name": "stdout",
     "output_type": "stream",
     "text": [
      "Namalsk\n",
      "0.0%\n",
      "1.32%\n",
      "2.64%\n",
      "3.96%\n",
      "5.28%\n",
      "6.6%\n",
      "7.92%\n",
      "9.24%\n",
      "10.56%\n",
      "11.88%\n",
      "13.2%\n",
      "14.52%\n",
      "15.84%\n",
      "17.16%\n",
      "18.48%\n",
      "19.8%\n",
      "21.12%\n",
      "22.44%\n",
      "23.76%\n",
      "25.08%\n",
      "26.4%\n",
      "27.72%\n",
      "29.04%\n",
      "30.36%\n",
      "31.68%\n",
      "33.0%\n",
      "34.32%\n",
      "35.64%\n",
      "36.96%\n",
      "38.28%\n",
      "39.6%\n",
      "40.92%\n",
      "42.24%\n",
      "43.56%\n",
      "44.88%\n",
      "46.2%\n",
      "47.52%\n",
      "48.84%\n",
      "50.16%\n",
      "51.48%\n",
      "52.8%\n",
      "54.12%\n",
      "55.44%\n",
      "56.76%\n",
      "58.08%\n",
      "59.4%\n",
      "60.72%\n",
      "62.04%\n",
      "63.36%\n",
      "64.68%\n",
      "66.0%\n",
      "67.32%\n",
      "68.64%\n",
      "69.96%\n",
      "71.28%\n",
      "72.6%\n",
      "73.92%\n",
      "75.24%\n",
      "76.56%\n",
      "77.88%\n",
      "79.2%\n",
      "80.52%\n",
      "81.84%\n",
      "83.16%\n",
      "84.48%\n",
      "85.8%\n",
      "87.12%\n",
      "88.44%\n",
      "89.76%\n",
      "91.08%\n",
      "92.4%\n",
      "93.72%\n",
      "95.04%\n",
      "96.36%\n",
      "97.68%\n",
      "99.0%\n"
     ]
    }
   ],
   "source": [
    "from src.dayz.traderconfig_manager import TraderConfigManager\n",
    "\n",
    "tcm = TraderConfigManager()\n",
    "tcm.load_traderconfig_to_db(\"Namalsk\")"
   ]
  },
  {
   "cell_type": "code",
   "execution_count": null,
   "metadata": {},
   "outputs": [],
   "source": [
    "from src.dayz.xml_manager import XMLManager\n",
    "\n",
    "xmlm = XMLManager()\n",
    "#xmlm.close()\n",
    "xmlm.load_types_xml_to_db(\"Namalsk\")"
   ]
  },
  {
   "cell_type": "code",
   "execution_count": null,
   "metadata": {},
   "outputs": [],
   "source": []
  },
  {
   "cell_type": "code",
   "execution_count": null,
   "metadata": {},
   "outputs": [],
   "source": [
    "with open(f'_files/outputs/{map_name}/types.xml', \"r\") as fin:\n",
    "    lines = fin.readlines()\n",
    "\n",
    "opens = 0\n",
    "for line in lines:\n",
    "    if line.startswith(\"\\t<type\"):\n",
    "        opens += 1\n",
    "    if opens == 2:\n",
    "        print(line)\n",
    "    if line.startswith(\"\\t</type\"):\n",
    "        opens -= 1"
   ]
  }
 ],
 "metadata": {
  "kernelspec": {
   "display_name": "Python 3.9.12 64-bit",
   "language": "python",
   "name": "python3"
  },
  "language_info": {
   "codemirror_mode": {
    "name": "ipython",
    "version": 3
   },
   "file_extension": ".py",
   "mimetype": "text/x-python",
   "name": "python",
   "nbconvert_exporter": "python",
   "pygments_lexer": "ipython3",
   "version": "3.9.12"
  },
  "orig_nbformat": 4,
  "vscode": {
   "interpreter": {
    "hash": "0be2ebcd8732e5f1935d52ac8b49c411dfe1e9281f0ff9dc8c13474091bcdf78"
   }
  }
 },
 "nbformat": 4,
 "nbformat_minor": 2
}
